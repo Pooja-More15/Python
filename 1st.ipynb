{
 "cells": [
  {
   "cell_type": "code",
   "execution_count": 10,
   "id": "a3d4d91b-0ec5-41dd-8d52-86d0f47fb62d",
   "metadata": {
    "tags": []
   },
   "outputs": [
    {
     "name": "stdout",
     "output_type": "stream",
     "text": [
      "Hello world\n"
     ]
    }
   ],
   "source": [
    "#First Python Program\n",
    "print(\"Hello world\")"
   ]
  },
  {
   "cell_type": "code",
   "execution_count": 2,
   "id": "7e5d9a29-77bb-46b8-b4fd-b8bafad71b86",
   "metadata": {
    "tags": []
   },
   "outputs": [
    {
     "name": "stdout",
     "output_type": "stream",
     "text": [
      "Hello world My name is Pooja\n"
     ]
    }
   ],
   "source": [
    "print(\"Hello world\" , \"My name is Pooja\")"
   ]
  },
  {
   "cell_type": "code",
   "execution_count": 3,
   "id": "89194f52-9a53-48de-ad6d-9a93c21c44f7",
   "metadata": {
    "tags": []
   },
   "outputs": [
    {
     "name": "stdout",
     "output_type": "stream",
     "text": [
      "23\n"
     ]
    }
   ],
   "source": [
    "print(23)"
   ]
  },
  {
   "cell_type": "code",
   "execution_count": 4,
   "id": "aff436c2-54a2-49f0-b54b-90f403584cce",
   "metadata": {
    "tags": []
   },
   "outputs": [
    {
     "name": "stdout",
     "output_type": "stream",
     "text": [
      "14\n"
     ]
    }
   ],
   "source": [
    "print(12+2)"
   ]
  },
  {
   "cell_type": "code",
   "execution_count": 6,
   "id": "44b67b3c-5b19-4d7e-a947-abd7ba37866a",
   "metadata": {
    "tags": []
   },
   "outputs": [
    {
     "name": "stdout",
     "output_type": "stream",
     "text": [
      "pooja\n"
     ]
    }
   ],
   "source": [
    "#Variables\n",
    "name = \"pooja\"\n",
    "print(name)"
   ]
  },
  {
   "cell_type": "code",
   "execution_count": 12,
   "id": "530fb892-abaa-42c4-8d57-2be580fdee3e",
   "metadata": {
    "tags": []
   },
   "outputs": [
    {
     "name": "stdout",
     "output_type": "stream",
     "text": [
      "My name is: Pooja\n",
      "My age is: 21\n",
      "My marks is: 82.12\n"
     ]
    }
   ],
   "source": [
    "name = \"Pooja\" #str\n",
    "age = 21     #int\n",
    "marks = 82.12  #Float\n",
    "\n",
    "print(\"My name is:\",name)\n",
    "print(\"My age is:\", age)\n",
    "print(\"My marks is:\",marks)"
   ]
  },
  {
   "cell_type": "code",
   "execution_count": 9,
   "id": "302087f1-b4d1-40d3-85f1-6d00da51e42a",
   "metadata": {
    "tags": []
   },
   "outputs": [
    {
     "name": "stdout",
     "output_type": "stream",
     "text": [
      "<class 'str'>\n",
      "<class 'int'>\n",
      "<class 'float'>\n"
     ]
    }
   ],
   "source": [
    "# How to check data type of variable\n",
    "name = \"Pooja\"\n",
    "age = 21\n",
    "marks = 82.12\n",
    "\n",
    "print(type(name))\n",
    "print(type(age))\n",
    "print(type(marks))\n"
   ]
  },
  {
   "cell_type": "code",
   "execution_count": 15,
   "id": "07b9d7eb-96b4-411a-aa14-b1e1604e6916",
   "metadata": {
    "tags": []
   },
   "outputs": [
    {
     "name": "stdout",
     "output_type": "stream",
     "text": [
      "Add: 15\n",
      "Sub: -5\n",
      "Mul: 50\n",
      "Div: 0.5\n",
      "Reminder: 5\n",
      "Power: 9765625\n"
     ]
    }
   ],
   "source": [
    "'''Operators in Python\n",
    "1. Arithmatic Operators  (+, -, *, /, %, **)\n",
    "2. Relationa / Comparision Operators(==, !=, >, <, >=, <=)\n",
    "3. Assingment Operators(=, +=, -=, *=,\n",
    "4. Logical Operators (not, and, or)'''\n",
    "\n",
    "#Arithmatic Operators\n",
    "a = 5\n",
    "b = 10\n",
    "\n",
    "print(\"Add:\",a + b)\n",
    "print(\"Sub:\",a - b)\n",
    "print(\"Mul:\",a * b)\n",
    "print(\"Div:\",a / b)\n",
    "print(\"Reminder:\",a % b)\n",
    "print(\"Power:\",a ** b)\n",
    "                        \n",
    "\n"
   ]
  },
  {
   "cell_type": "code",
   "execution_count": 16,
   "id": "e3289eca-6852-482f-9ed9-fa4fdfb60935",
   "metadata": {
    "tags": []
   },
   "outputs": [
    {
     "name": "stdout",
     "output_type": "stream",
     "text": [
      "False\n",
      "True\n",
      "True\n",
      "False\n",
      "True\n",
      "False\n"
     ]
    }
   ],
   "source": [
    "#Relational Operators\n",
    "a = 5\n",
    "b = 10\n",
    "\n",
    "print(a == b) \n",
    "print(a != b) \n",
    "print(a < b)\n",
    "print(a > b)\n",
    "print(a <= b)\n",
    "print(a >= b)\n"
   ]
  },
  {
   "cell_type": "code",
   "execution_count": 17,
   "id": "1c3d9b31-2ac3-4d4a-ac62-932e2b6e0035",
   "metadata": {
    "tags": []
   },
   "outputs": [
    {
     "name": "stdout",
     "output_type": "stream",
     "text": [
      "num is: 15\n"
     ]
    }
   ],
   "source": [
    "#Assingment Operator\n",
    "num = 10\n",
    "num += 5\n",
    "print(\"num is:\",num)"
   ]
  },
  {
   "cell_type": "code",
   "execution_count": 18,
   "id": "708ebb46-bc7d-4670-ad19-36812efec0ad",
   "metadata": {
    "tags": []
   },
   "outputs": [
    {
     "name": "stdout",
     "output_type": "stream",
     "text": [
      "num is: 5\n"
     ]
    }
   ],
   "source": [
    "num = 10\n",
    "num -= 5\n",
    "print(\"num is:\",num)"
   ]
  },
  {
   "cell_type": "code",
   "execution_count": 19,
   "id": "6a726e54-a869-49d2-9739-a7213ec7c2bf",
   "metadata": {
    "tags": []
   },
   "outputs": [
    {
     "name": "stdout",
     "output_type": "stream",
     "text": [
      "num is: 50\n"
     ]
    }
   ],
   "source": [
    "num = 10\n",
    "num *= 5\n",
    "print(\"num is:\",num)"
   ]
  },
  {
   "cell_type": "code",
   "execution_count": 20,
   "id": "075ae981-0b0c-4210-af2b-5c8dd1bf516b",
   "metadata": {
    "tags": []
   },
   "outputs": [
    {
     "name": "stdout",
     "output_type": "stream",
     "text": [
      "num is: 2.0\n"
     ]
    }
   ],
   "source": [
    "num = 10\n",
    "num /= 5\n",
    "print(\"num is:\",num)"
   ]
  },
  {
   "cell_type": "code",
   "execution_count": 21,
   "id": "a370e994-47a3-45d7-a35d-97583e447b08",
   "metadata": {
    "tags": []
   },
   "outputs": [
    {
     "name": "stdout",
     "output_type": "stream",
     "text": [
      "num is: 0\n"
     ]
    }
   ],
   "source": [
    "num = 10\n",
    "num %= 5\n",
    "print(\"num is:\",num)"
   ]
  },
  {
   "cell_type": "code",
   "execution_count": 22,
   "id": "c753a3bd-d9f4-4414-9abe-6fb14674d1f7",
   "metadata": {
    "tags": []
   },
   "outputs": [
    {
     "name": "stdout",
     "output_type": "stream",
     "text": [
      "num is: 100000\n"
     ]
    }
   ],
   "source": [
    "num = 10\n",
    "num **= 5\n",
    "print(\"num is:\",num)"
   ]
  },
  {
   "cell_type": "code",
   "execution_count": 23,
   "id": "9af41c56-f456-4f27-94ef-6cdb4b05fff4",
   "metadata": {
    "tags": []
   },
   "outputs": [
    {
     "name": "stdout",
     "output_type": "stream",
     "text": [
      "True\n",
      "False\n"
     ]
    }
   ],
   "source": [
    "#Logical Operator\n",
    "#not\n",
    "print(not False)\n",
    "print(not True)"
   ]
  },
  {
   "cell_type": "code",
   "execution_count": 25,
   "id": "c189213b-62f2-4493-af93-3097daabd9ba",
   "metadata": {
    "tags": []
   },
   "outputs": [
    {
     "name": "stdout",
     "output_type": "stream",
     "text": [
      "True\n"
     ]
    }
   ],
   "source": [
    "a = 10\n",
    "b = 20\n",
    "print(not(a > b))"
   ]
  },
  {
   "cell_type": "code",
   "execution_count": 28,
   "id": "c83bd665-09cb-4118-9375-a08bec43a80e",
   "metadata": {
    "tags": []
   },
   "outputs": [
    {
     "name": "stdout",
     "output_type": "stream",
     "text": [
      "And Operator: True\n"
     ]
    }
   ],
   "source": [
    "#And\n",
    "val1 = True\n",
    "val2 = True\n",
    "print(\"And Operator:\",val1 and val2)"
   ]
  },
  {
   "cell_type": "code",
   "execution_count": 32,
   "id": "d9156b00-e6c2-43d6-bbf1-311a101fc235",
   "metadata": {
    "tags": []
   },
   "outputs": [
    {
     "name": "stdout",
     "output_type": "stream",
     "text": [
      "Or Operator: False\n"
     ]
    }
   ],
   "source": [
    "#or\n",
    "val1 = False\n",
    "val2 = False\n",
    "print(\"Or Operator:\",val1 or val2)"
   ]
  },
  {
   "cell_type": "code",
   "execution_count": 33,
   "id": "da2daaae-7b2e-4c96-a13a-43a0e13954e1",
   "metadata": {
    "tags": []
   },
   "outputs": [
    {
     "name": "stdout",
     "output_type": "stream",
     "text": [
      "6.24\n"
     ]
    }
   ],
   "source": [
    "#Type Conversion\n",
    "a = 2\n",
    "b = 4.24\n",
    "sum = a + b\n",
    "print(sum)"
   ]
  },
  {
   "cell_type": "code",
   "execution_count": 34,
   "id": "9c9726be-5199-4088-9c65-8943b69c0c5f",
   "metadata": {
    "tags": []
   },
   "outputs": [
    {
     "name": "stdout",
     "output_type": "stream",
     "text": [
      "<class 'float'>\n",
      "6.25\n"
     ]
    }
   ],
   "source": [
    "a = float(\"2\")\n",
    "b = 4.25\n",
    "\n",
    "print(type(a))\n",
    "print(a+b)"
   ]
  },
  {
   "cell_type": "code",
   "execution_count": 35,
   "id": "08ef0e23-0dc5-42a1-a172-eef7b61498ec",
   "metadata": {
    "tags": []
   },
   "outputs": [
    {
     "name": "stdout",
     "output_type": "stream",
     "text": [
      "<class 'float'>\n"
     ]
    }
   ],
   "source": [
    "a = 3.14\n",
    "b = str(a)\n",
    "print(type(a))"
   ]
  },
  {
   "cell_type": "code",
   "execution_count": 38,
   "id": "5368c3cf-96f2-4cf7-a21d-c511dcc34763",
   "metadata": {
    "tags": []
   },
   "outputs": [
    {
     "name": "stdin",
     "output_type": "stream",
     "text": [
      "Ener your Name pooja\n"
     ]
    },
    {
     "name": "stdout",
     "output_type": "stream",
     "text": [
      "Your Name is: pooja\n"
     ]
    }
   ],
   "source": [
    "#How to give Input From user in Python\n",
    "\n",
    "name = input(\"Ener your Name\")\n",
    "print(\"Your Name is:\",name)"
   ]
  },
  {
   "cell_type": "code",
   "execution_count": 42,
   "id": "2270dfe3-a42e-4698-975e-9658f60649a6",
   "metadata": {
    "tags": []
   },
   "outputs": [
    {
     "name": "stdin",
     "output_type": "stream",
     "text": [
      "Enter Your Name: pooja\n",
      "Enter Your age: 21\n",
      "Enter your marks: 82.12\n"
     ]
    },
    {
     "name": "stdout",
     "output_type": "stream",
     "text": [
      "My name is: pooja\n",
      "My age is: 21\n",
      "My marks is: 82.12\n"
     ]
    }
   ],
   "source": [
    "name = input(\"Enter Your Name:\")\n",
    "age = int(input(\"Enter Your age:\"))\n",
    "marks = float(input(\"Enter your marks:\"))\n",
    "\n",
    "print(\"My name is:\",name)\n",
    "print(\"My age is:\",age)\n",
    "print(\"My marks is:\",marks)\n",
    "              "
   ]
  },
  {
   "cell_type": "code",
   "execution_count": null,
   "id": "f5b7771c-6134-43b5-b5f3-a88acabf03b5",
   "metadata": {
    "tags": []
   },
   "outputs": [],
   "source": [
    "#Write a program to input 2 Numbers and print their sum.\n",
    "\n",
    "a = int(input(\"Enter First Nummber:\"))\n",
    "b = int(input(\"Enter Second Number:\"))\n",
    "sum = a + b\n",
    "print(\"sum is :\",sum)"
   ]
  },
  {
   "cell_type": "code",
   "execution_count": 49,
   "id": "dda26d21-05cd-483a-9f1d-1af3f6c35db9",
   "metadata": {
    "tags": []
   },
   "outputs": [
    {
     "name": "stdin",
     "output_type": "stream",
     "text": [
      "Enter the side of square Value: 4\n"
     ]
    },
    {
     "name": "stdout",
     "output_type": "stream",
     "text": [
      "Value of side square is: 16\n"
     ]
    }
   ],
   "source": [
    "#Write a program side of a square & its area.\n",
    "\n",
    "side = int(input(\"Enter the side of square Value:\"))\n",
    "area = side * side\n",
    "print(\"Value of side square is:\",area)"
   ]
  },
  {
   "cell_type": "code",
   "execution_count": 50,
   "id": "182f06dc-0ed3-4563-9a9b-f1edd8895b57",
   "metadata": {
    "tags": []
   },
   "outputs": [
    {
     "name": "stdin",
     "output_type": "stream",
     "text": [
      "Enter the area of square: 4\n"
     ]
    },
    {
     "name": "stdout",
     "output_type": "stream",
     "text": [
      "Area: 16.0\n"
     ]
    }
   ],
   "source": [
    "#Another Method\n",
    "\n",
    "side = float(input(\"Enter the area of square:\"))\n",
    "print(\"Area:\", side * side)"
   ]
  },
  {
   "cell_type": "code",
   "execution_count": 1,
   "id": "16ddda86-50e3-4968-9ad0-7b0edfe356dc",
   "metadata": {},
   "outputs": [
    {
     "name": "stdin",
     "output_type": "stream",
     "text": [
      "Enter First Nummber: 15\n",
      "Enter Second Number: 15\n"
     ]
    },
    {
     "ename": "NameError",
     "evalue": "name 'avg' is not defined",
     "output_type": "error",
     "traceback": [
      "\u001b[1;31m---------------------------------------------------------------------------\u001b[0m",
      "\u001b[1;31mNameError\u001b[0m                                 Traceback (most recent call last)",
      "Cell \u001b[1;32mIn[1], line 6\u001b[0m\n\u001b[0;32m      3\u001b[0m a \u001b[38;5;241m=\u001b[39m \u001b[38;5;28mfloat\u001b[39m(\u001b[38;5;28minput\u001b[39m(\u001b[38;5;124m\"\u001b[39m\u001b[38;5;124mEnter First Nummber:\u001b[39m\u001b[38;5;124m\"\u001b[39m))\n\u001b[0;32m      4\u001b[0m b \u001b[38;5;241m=\u001b[39m \u001b[38;5;28mfloat\u001b[39m(\u001b[38;5;28minput\u001b[39m(\u001b[38;5;124m\"\u001b[39m\u001b[38;5;124mEnter Second Number:\u001b[39m\u001b[38;5;124m\"\u001b[39m))\n\u001b[1;32m----> 6\u001b[0m \u001b[38;5;28mprint\u001b[39m(\u001b[38;5;124m\"\u001b[39m\u001b[38;5;124maverage is :\u001b[39m\u001b[38;5;124m\"\u001b[39m,avg (a\u001b[38;5;241m+\u001b[39mb)\u001b[38;5;241m/\u001b[39m\u001b[38;5;241m2\u001b[39m)\n",
      "\u001b[1;31mNameError\u001b[0m: name 'avg' is not defined"
     ]
    }
   ],
   "source": [
    "# WAP to input 2 floating point numbers and print their average\n",
    "\n",
    "a = float(input(\"Enter First Nummber:\"))\n",
    "b = float(input(\"Enter Second Number:\"))\n",
    "\n",
    "print(\"average is :\",avg (a+b)/2)"
   ]
  },
  {
   "cell_type": "code",
   "execution_count": null,
   "id": "0286aa04-71a6-4ee9-ba78-0f58103ecca1",
   "metadata": {},
   "outputs": [],
   "source": []
  },
  {
   "cell_type": "code",
   "execution_count": null,
   "id": "3e12927c-334c-40c9-bf63-d2b65c00c66e",
   "metadata": {},
   "outputs": [],
   "source": []
  }
 ],
 "metadata": {
  "kernelspec": {
   "display_name": "Python 3 (ipykernel)",
   "language": "python",
   "name": "python3"
  },
  "language_info": {
   "codemirror_mode": {
    "name": "ipython",
    "version": 3
   },
   "file_extension": ".py",
   "mimetype": "text/x-python",
   "name": "python",
   "nbconvert_exporter": "python",
   "pygments_lexer": "ipython3",
   "version": "3.11.5"
  }
 },
 "nbformat": 4,
 "nbformat_minor": 5
}
